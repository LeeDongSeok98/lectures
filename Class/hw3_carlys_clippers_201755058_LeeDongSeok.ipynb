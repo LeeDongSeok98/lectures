{
 "cells": [
  {
   "cell_type": "markdown",
   "id": "c65ca4a5",
   "metadata": {},
   "source": [
    "# 과제 3: Carly's Clippers"
   ]
  },
  {
   "cell_type": "code",
   "execution_count": 20,
   "id": "2fc35820",
   "metadata": {},
   "outputs": [
    {
     "name": "stdout",
     "output_type": "stream",
     "text": [
      "['bouffant', 'pixie', 'dreadlocks', 'crew', 'bowl', 'bob', 'mohawk', 'flattop']\n"
     ]
    }
   ],
   "source": [
    "# Carly's Clippers 헤어스타일 리스트 생성\n",
    "hairstyles = [\"bouffant\", \"pixie\", \"dreadlocks\", \"crew\", \"bowl\", \"bob\", \"mohawk\", \"flattop\"]\n",
    "print(hairstyles)"
   ]
  },
  {
   "cell_type": "code",
   "execution_count": 21,
   "id": "db25983c",
   "metadata": {},
   "outputs": [
    {
     "name": "stdout",
     "output_type": "stream",
     "text": [
      "[30, 25, 40, 20, 20, 35, 50, 35]\n"
     ]
    }
   ],
   "source": [
    "# 헤어스타일 별 가격 리스트 생성\n",
    "prices = [30, 25, 40, 20, 20, 35, 50, 35]\n",
    "print(prices)"
   ]
  },
  {
   "cell_type": "code",
   "execution_count": 22,
   "id": "13ddadd1",
   "metadata": {},
   "outputs": [
    {
     "name": "stdout",
     "output_type": "stream",
     "text": [
      "[2, 3, 5, 8, 4, 4, 6, 2]\n"
     ]
    }
   ],
   "source": [
    "# 지난 주 해어스타일 별 구매 건수 리스트 생성\n",
    "last_week = [2, 3, 5, 8, 4, 4, 6, 2]\n",
    "print(last_week)"
   ]
  },
  {
   "cell_type": "code",
   "execution_count": 31,
   "id": "20a26d0b",
   "metadata": {},
   "outputs": [
    {
     "data": {
      "text/plain": [
       "255"
      ]
     },
     "execution_count": 31,
     "metadata": {},
     "output_type": "execute_result"
    }
   ],
   "source": [
    "# 이발 가격 총액에 대한 변수 생성\n",
    "total_price = 0\n",
    "\n",
    "for i in range(len(prices)):\n",
    "    total_price += prices[i]\n",
    "    \n",
    "total_price"
   ]
  },
  {
   "cell_type": "code",
   "execution_count": 25,
   "id": "d8dfe1b5",
   "metadata": {},
   "outputs": [
    {
     "name": "stdout",
     "output_type": "stream",
     "text": [
      "Average price is  31.875\n"
     ]
    }
   ],
   "source": [
    "# 헤어스타일 평균 가격\n",
    "average_price = total_price / len(prices)\n",
    "print('Average price is ', average_price)"
   ]
  },
  {
   "cell_type": "code",
   "execution_count": 26,
   "id": "a1e152dd",
   "metadata": {},
   "outputs": [
    {
     "name": "stdout",
     "output_type": "stream",
     "text": [
      "[25, 20, 35, 15, 15, 30, 45, 30]\n"
     ]
    }
   ],
   "source": [
    "# 새로운 가격 리스트 생성\n",
    "new_prices = [k - 5 for k in prices]\n",
    "print(new_prices)"
   ]
  },
  {
   "cell_type": "code",
   "execution_count": 28,
   "id": "e328386e",
   "metadata": {},
   "outputs": [
    {
     "data": {
      "text/plain": [
       "1085"
      ]
     },
     "execution_count": 28,
     "metadata": {},
     "output_type": "execute_result"
    }
   ],
   "source": [
    "# 지난 주 총수익에 대한 변수 생성\n",
    "total_revenue = 0\n",
    "\n",
    "for i in range(len(hairstyles)):\n",
    "    total_revenue += prices[i] * last_week[i]\n",
    "total_revenue"
   ]
  },
  {
   "cell_type": "code",
   "execution_count": 29,
   "id": "244f206d",
   "metadata": {},
   "outputs": [
    {
     "name": "stdout",
     "output_type": "stream",
     "text": [
      "Average daily revenue is  155.0\n"
     ]
    }
   ],
   "source": [
    "# 일별 평균 수익\n",
    "average_daily_revenue = total_revenue / 7\n",
    "print(\"Average daily revenue is \", average_daily_revenue)"
   ]
  },
  {
   "cell_type": "code",
   "execution_count": 30,
   "id": "507b780f",
   "metadata": {},
   "outputs": [
    {
     "name": "stdout",
     "output_type": "stream",
     "text": [
      "['bouffant', 'pixie', 'crew', 'bowl']\n"
     ]
    }
   ],
   "source": [
    "# 30$ 미만인 헤어스타일 컷 리스트 생성\n",
    "cuts_under_30 = [hairstyles[i] for i in range(len(new_prices) - 1) if new_prices[i] < 30]\n",
    "print(cuts_under_30)"
   ]
  }
 ],
 "metadata": {
  "kernelspec": {
   "display_name": "Python 3 (ipykernel)",
   "language": "python",
   "name": "python3"
  },
  "language_info": {
   "codemirror_mode": {
    "name": "ipython",
    "version": 3
   },
   "file_extension": ".py",
   "mimetype": "text/x-python",
   "name": "python",
   "nbconvert_exporter": "python",
   "pygments_lexer": "ipython3",
   "version": "3.9.7"
  }
 },
 "nbformat": 4,
 "nbformat_minor": 5
}
